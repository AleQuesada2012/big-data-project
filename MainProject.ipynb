{
 "cells": [
  {
   "cell_type": "markdown",
   "id": "d7ebc6ba",
   "metadata": {},
   "source": [
    "## Sparkified MainProj Notebook\n",
    "Cambiar esta constante si necesita alojar menos memoria a spark"
   ]
  },
  {
   "cell_type": "code",
   "execution_count": 1,
   "id": "949ecf78",
   "metadata": {},
   "outputs": [],
   "source": [
    "MAX_MEMORY = \"5g\""
   ]
  },
  {
   "cell_type": "code",
   "execution_count": 2,
   "id": "6b363107",
   "metadata": {},
   "outputs": [
    {
     "name": "stderr",
     "output_type": "stream",
     "text": [
      "25/08/07 14:12:43 WARN Utils: Your hostname, ALE-PCMR resolves to a loopback address: 127.0.1.1; using 10.255.255.254 instead (on interface lo)\n",
      "25/08/07 14:12:43 WARN Utils: Set SPARK_LOCAL_IP if you need to bind to another address\n",
      "Setting default log level to \"WARN\".\n",
      "To adjust logging level use sc.setLogLevel(newLevel). For SparkR, use setLogLevel(newLevel).\n",
      "25/08/07 14:12:44 WARN NativeCodeLoader: Unable to load native-hadoop library for your platform... using builtin-java classes where applicable\n"
     ]
    }
   ],
   "source": [
    "from pyspark.sql import SparkSession\n",
    "from pyspark.sql.functions import expr, regexp_extract, col, coalesce, lit, avg, mean\n",
    "from pyspark.sql.types import *\n",
    "import pandas as pd\n",
    "\n",
    "# Initialize Spark session\n",
    "spark = SparkSession.builder \\\n",
    "    .appName(\"SparkifiedMainProj\") \\\n",
    "    .config(\"spark.executor.memory\", MAX_MEMORY) \\\n",
    "    .config(\"spark.driver.memory\", MAX_MEMORY) \\\n",
    "    .getOrCreate()\n",
    "\n",
    "spark.sparkContext.setLogLevel(\"WARN\")"
   ]
  },
  {
   "cell_type": "markdown",
   "id": "c99d2e5b",
   "metadata": {},
   "source": [
    "### 1. Define explicit schemas for CSVs"
   ]
  },
  {
   "cell_type": "code",
   "execution_count": 3,
   "id": "c4245e93",
   "metadata": {},
   "outputs": [
    {
     "name": "stderr",
     "output_type": "stream",
     "text": [
      "[Stage 1:>                                                        (0 + 16) / 16]\r"
     ]
    },
    {
     "name": "stdout",
     "output_type": "stream",
     "text": [
      "root\n",
      " |-- eventid: long (nullable = true)\n",
      " |-- iyear: integer (nullable = true)\n",
      " |-- imonth: integer (nullable = true)\n",
      " |-- iday: integer (nullable = true)\n",
      " |-- approxdate: string (nullable = true)\n",
      " |-- extended: integer (nullable = true)\n",
      " |-- resolution: timestamp (nullable = true)\n",
      " |-- country: integer (nullable = true)\n",
      " |-- country_txt: string (nullable = true)\n",
      " |-- region: integer (nullable = true)\n",
      " |-- region_txt: string (nullable = true)\n",
      " |-- provstate: string (nullable = true)\n",
      " |-- city: string (nullable = true)\n",
      " |-- latitude: double (nullable = true)\n",
      " |-- longitude: double (nullable = true)\n",
      " |-- specificity: double (nullable = true)\n",
      " |-- vicinity: integer (nullable = true)\n",
      " |-- location: string (nullable = true)\n",
      " |-- summary: string (nullable = true)\n",
      " |-- crit1: string (nullable = true)\n",
      " |-- crit2: string (nullable = true)\n",
      " |-- crit3: string (nullable = true)\n",
      " |-- doubtterr: string (nullable = true)\n",
      " |-- alternative: string (nullable = true)\n",
      " |-- alternative_txt: string (nullable = true)\n",
      " |-- multiple: string (nullable = true)\n",
      " |-- success: string (nullable = true)\n",
      " |-- suicide: string (nullable = true)\n",
      " |-- attacktype1: string (nullable = true)\n",
      " |-- attacktype1_txt: string (nullable = true)\n",
      " |-- attacktype2: string (nullable = true)\n",
      " |-- attacktype2_txt: string (nullable = true)\n",
      " |-- attacktype3: string (nullable = true)\n",
      " |-- attacktype3_txt: string (nullable = true)\n",
      " |-- targtype1: string (nullable = true)\n",
      " |-- targtype1_txt: string (nullable = true)\n",
      " |-- targsubtype1: string (nullable = true)\n",
      " |-- targsubtype1_txt: string (nullable = true)\n",
      " |-- corp1: string (nullable = true)\n",
      " |-- target1: string (nullable = true)\n",
      " |-- natlty1: string (nullable = true)\n",
      " |-- natlty1_txt: string (nullable = true)\n",
      " |-- targtype2: string (nullable = true)\n",
      " |-- targtype2_txt: string (nullable = true)\n",
      " |-- targsubtype2: string (nullable = true)\n",
      " |-- targsubtype2_txt: string (nullable = true)\n",
      " |-- corp2: string (nullable = true)\n",
      " |-- target2: string (nullable = true)\n",
      " |-- natlty2: string (nullable = true)\n",
      " |-- natlty2_txt: string (nullable = true)\n",
      " |-- targtype3: string (nullable = true)\n",
      " |-- targtype3_txt: string (nullable = true)\n",
      " |-- targsubtype3: string (nullable = true)\n",
      " |-- targsubtype3_txt: string (nullable = true)\n",
      " |-- corp3: string (nullable = true)\n",
      " |-- target3: string (nullable = true)\n",
      " |-- natlty3: string (nullable = true)\n",
      " |-- natlty3_txt: string (nullable = true)\n",
      " |-- gname: string (nullable = true)\n",
      " |-- gsubname: string (nullable = true)\n",
      " |-- gname2: string (nullable = true)\n",
      " |-- gsubname2: string (nullable = true)\n",
      " |-- gname3: string (nullable = true)\n",
      " |-- gsubname3: string (nullable = true)\n",
      " |-- motive: string (nullable = true)\n",
      " |-- guncertain1: string (nullable = true)\n",
      " |-- guncertain2: string (nullable = true)\n",
      " |-- guncertain3: string (nullable = true)\n",
      " |-- individual: string (nullable = true)\n",
      " |-- nperps: string (nullable = true)\n",
      " |-- nperpcap: string (nullable = true)\n",
      " |-- claimed: string (nullable = true)\n",
      " |-- claimmode: string (nullable = true)\n",
      " |-- claimmode_txt: string (nullable = true)\n",
      " |-- claim2: string (nullable = true)\n",
      " |-- claimmode2: string (nullable = true)\n",
      " |-- claimmode2_txt: string (nullable = true)\n",
      " |-- claim3: string (nullable = true)\n",
      " |-- claimmode3: string (nullable = true)\n",
      " |-- claimmode3_txt: string (nullable = true)\n",
      " |-- compclaim: string (nullable = true)\n",
      " |-- weaptype1: string (nullable = true)\n",
      " |-- weaptype1_txt: string (nullable = true)\n",
      " |-- weapsubtype1: string (nullable = true)\n",
      " |-- weapsubtype1_txt: string (nullable = true)\n",
      " |-- weaptype2: string (nullable = true)\n",
      " |-- weaptype2_txt: string (nullable = true)\n",
      " |-- weapsubtype2: string (nullable = true)\n",
      " |-- weapsubtype2_txt: string (nullable = true)\n",
      " |-- weaptype3: string (nullable = true)\n",
      " |-- weaptype3_txt: string (nullable = true)\n",
      " |-- weapsubtype3: string (nullable = true)\n",
      " |-- weapsubtype3_txt: string (nullable = true)\n",
      " |-- weaptype4: string (nullable = true)\n",
      " |-- weaptype4_txt: string (nullable = true)\n",
      " |-- weapsubtype4: string (nullable = true)\n",
      " |-- weapsubtype4_txt: string (nullable = true)\n",
      " |-- weapdetail: string (nullable = true)\n",
      " |-- nkill: string (nullable = true)\n",
      " |-- nkillus: string (nullable = true)\n",
      " |-- nkillter: string (nullable = true)\n",
      " |-- nwound: string (nullable = true)\n",
      " |-- nwoundus: string (nullable = true)\n",
      " |-- nwoundte: string (nullable = true)\n",
      " |-- property: string (nullable = true)\n",
      " |-- propextent: string (nullable = true)\n",
      " |-- propextent_txt: string (nullable = true)\n",
      " |-- propvalue: string (nullable = true)\n",
      " |-- propcomment: string (nullable = true)\n",
      " |-- ishostkid: string (nullable = true)\n",
      " |-- nhostkid: string (nullable = true)\n",
      " |-- nhostkidus: string (nullable = true)\n",
      " |-- nhours: string (nullable = true)\n",
      " |-- ndays: string (nullable = true)\n",
      " |-- divert: string (nullable = true)\n",
      " |-- kidhijcountry: string (nullable = true)\n",
      " |-- ransom: string (nullable = true)\n",
      " |-- ransomamt: string (nullable = true)\n",
      " |-- ransomamtus: string (nullable = true)\n",
      " |-- ransompaid: string (nullable = true)\n",
      " |-- ransompaidus: string (nullable = true)\n",
      " |-- ransomnote: string (nullable = true)\n",
      " |-- hostkidoutcome: string (nullable = true)\n",
      " |-- hostkidoutcome_txt: string (nullable = true)\n",
      " |-- nreleased: string (nullable = true)\n",
      " |-- addnotes: string (nullable = true)\n",
      " |-- scite1: string (nullable = true)\n",
      " |-- scite2: string (nullable = true)\n",
      " |-- scite3: string (nullable = true)\n",
      " |-- dbsource: string (nullable = true)\n",
      " |-- INT_LOG: string (nullable = true)\n",
      " |-- INT_IDEO: string (nullable = true)\n",
      " |-- INT_MISC: string (nullable = true)\n",
      " |-- INT_ANY: string (nullable = true)\n",
      " |-- related: string (nullable = true)\n",
      "\n"
     ]
    },
    {
     "name": "stderr",
     "output_type": "stream",
     "text": [
      "                                                                                \r"
     ]
    }
   ],
   "source": [
    "# Replace the path with your actual GTD file path if needed\n",
    "gtd_df = spark.read.csv(\"datasets/GTD.csv\", header=True, inferSchema=True)\n",
    "\n",
    "# Check schema\n",
    "gtd_df.printSchema()\n"
   ]
  },
  {
   "cell_type": "code",
   "execution_count": 4,
   "id": "c13d0ddb",
   "metadata": {},
   "outputs": [],
   "source": [
    "gtd_df = gtd_df.drop(\"eventid\")"
   ]
  },
  {
   "cell_type": "code",
   "execution_count": 5,
   "id": "2de3916e",
   "metadata": {},
   "outputs": [],
   "source": [
    "from pyspark.sql.types import *\n",
    "from pyspark.sql.functions import col, when\n",
    "import re\n",
    "\n",
    "def infer_and_cast_types(df, sample_size=100, prefix_rules=True):\n",
    "    \"\"\"\n",
    "    Infers and casts types of columns in a Spark DataFrame based on prefix and sample values.\n",
    "    \n",
    "    Parameters:\n",
    "    - df: Input Spark DataFrame\n",
    "    - sample_size: Number of non-null samples per column to inspect\n",
    "    - prefix_rules: If True, applies type rules based on column name prefixes like 'INT_', 'FLOAT_', 'BOOL_'\n",
    "    \n",
    "    Returns:\n",
    "    - New DataFrame with casted columns\n",
    "    \"\"\"\n",
    "    \n",
    "    for col_name, dtype in df.dtypes:\n",
    "        if dtype != 'string':\n",
    "            continue  # Only attempt to cast string columns\n",
    "\n",
    "        # Get sample non-null values\n",
    "        sample_values = df.select(col_name).dropna().limit(sample_size).rdd.map(lambda r: r[0]).collect()\n",
    "        \n",
    "        # Skip if empty sample\n",
    "        if not sample_values:\n",
    "            continue\n",
    "\n",
    "        # Use prefix rules if enabled\n",
    "        if prefix_rules:\n",
    "            if col_name.startswith(\"INT_\") or col_name in [\"n\"]:\n",
    "                df = df.withColumn(col_name, col(col_name).cast(IntegerType()))\n",
    "                continue\n",
    "            elif col_name.startswith(\"FLOAT_\"):\n",
    "                df = df.withColumn(col_name, col(col_name).cast(DoubleType()))\n",
    "                continue\n",
    "            elif col_name.startswith(\"BOOL_\") or col_name in [\"success\", \"extended\", \"suicide\"]:\n",
    "                df = df.withColumn(\n",
    "                    col_name,\n",
    "                    when(col(col_name).isin(\"1\", \"true\", \"True\"), 1)\n",
    "                    .when(col(col_name).isin(\"0\", \"false\", \"False\"), 0)\n",
    "                    .otherwise(None).cast(IntegerType())\n",
    "                )\n",
    "                continue\n",
    "\n",
    "        # Infer based on values\n",
    "        all_int = all(re.match(r'^-?\\d+$', str(v)) for v in sample_values)\n",
    "        all_float = all(re.match(r'^-?\\d+(\\.\\d+)?$', str(v)) for v in sample_values)\n",
    "        bool_like = all(str(v).strip() in [\"0\", \"1\", \"true\", \"false\", \"True\", \"False\"] for v in sample_values)\n",
    "\n",
    "        if all_int:\n",
    "            df = df.withColumn(col_name, col(col_name).cast(IntegerType()))\n",
    "        elif all_float:\n",
    "            df = df.withColumn(col_name, col(col_name).cast(DoubleType()))\n",
    "\n",
    "    return df\n"
   ]
  },
  {
   "cell_type": "code",
   "execution_count": 6,
   "id": "a55041d2",
   "metadata": {},
   "outputs": [
    {
     "name": "stderr",
     "output_type": "stream",
     "text": [
      "25/08/07 14:13:14 WARN package: Truncated the string representation of a plan since it was too large. This behavior can be adjusted by setting 'spark.sql.debug.maxToStringFields'.\n",
      "[Stage 248:>                                                      (0 + 16) / 16]\r"
     ]
    },
    {
     "name": "stdout",
     "output_type": "stream",
     "text": [
      "root\n",
      " |-- iyear: integer (nullable = true)\n",
      " |-- imonth: integer (nullable = true)\n",
      " |-- iday: integer (nullable = true)\n",
      " |-- approxdate: string (nullable = true)\n",
      " |-- extended: integer (nullable = true)\n",
      " |-- resolution: timestamp (nullable = true)\n",
      " |-- country: integer (nullable = true)\n",
      " |-- country_txt: string (nullable = true)\n",
      " |-- region: integer (nullable = true)\n",
      " |-- region_txt: string (nullable = true)\n",
      " |-- provstate: string (nullable = true)\n",
      " |-- city: string (nullable = true)\n",
      " |-- latitude: double (nullable = true)\n",
      " |-- longitude: double (nullable = true)\n",
      " |-- specificity: double (nullable = true)\n",
      " |-- vicinity: integer (nullable = true)\n",
      " |-- location: string (nullable = true)\n",
      " |-- summary: string (nullable = true)\n",
      " |-- crit1: integer (nullable = true)\n",
      " |-- crit2: integer (nullable = true)\n",
      " |-- crit3: integer (nullable = true)\n",
      " |-- doubtterr: integer (nullable = true)\n",
      " |-- alternative: double (nullable = true)\n",
      " |-- alternative_txt: string (nullable = true)\n",
      " |-- multiple: double (nullable = true)\n",
      " |-- success: integer (nullable = true)\n",
      " |-- suicide: integer (nullable = true)\n",
      " |-- attacktype1: integer (nullable = true)\n",
      " |-- attacktype1_txt: string (nullable = true)\n",
      " |-- attacktype2: string (nullable = true)\n",
      " |-- attacktype2_txt: string (nullable = true)\n",
      " |-- attacktype3: string (nullable = true)\n",
      " |-- attacktype3_txt: string (nullable = true)\n",
      " |-- targtype1: integer (nullable = true)\n",
      " |-- targtype1_txt: string (nullable = true)\n",
      " |-- targsubtype1: double (nullable = true)\n",
      " |-- targsubtype1_txt: string (nullable = true)\n",
      " |-- corp1: string (nullable = true)\n",
      " |-- target1: string (nullable = true)\n",
      " |-- natlty1: double (nullable = true)\n",
      " |-- natlty1_txt: string (nullable = true)\n",
      " |-- targtype2: string (nullable = true)\n",
      " |-- targtype2_txt: string (nullable = true)\n",
      " |-- targsubtype2: string (nullable = true)\n",
      " |-- targsubtype2_txt: string (nullable = true)\n",
      " |-- corp2: string (nullable = true)\n",
      " |-- target2: string (nullable = true)\n",
      " |-- natlty2: string (nullable = true)\n",
      " |-- natlty2_txt: string (nullable = true)\n",
      " |-- targtype3: string (nullable = true)\n",
      " |-- targtype3_txt: string (nullable = true)\n",
      " |-- targsubtype3: string (nullable = true)\n",
      " |-- targsubtype3_txt: string (nullable = true)\n",
      " |-- corp3: string (nullable = true)\n",
      " |-- target3: string (nullable = true)\n",
      " |-- natlty3: double (nullable = true)\n",
      " |-- natlty3_txt: string (nullable = true)\n",
      " |-- gname: string (nullable = true)\n",
      " |-- gsubname: string (nullable = true)\n",
      " |-- gname2: string (nullable = true)\n",
      " |-- gsubname2: string (nullable = true)\n",
      " |-- gname3: string (nullable = true)\n",
      " |-- gsubname3: string (nullable = true)\n",
      " |-- motive: string (nullable = true)\n",
      " |-- guncertain1: double (nullable = true)\n",
      " |-- guncertain2: string (nullable = true)\n",
      " |-- guncertain3: string (nullable = true)\n",
      " |-- individual: integer (nullable = true)\n",
      " |-- nperps: double (nullable = true)\n",
      " |-- nperpcap: double (nullable = true)\n",
      " |-- claimed: double (nullable = true)\n",
      " |-- claimmode: double (nullable = true)\n",
      " |-- claimmode_txt: string (nullable = true)\n",
      " |-- claim2: string (nullable = true)\n",
      " |-- claimmode2: string (nullable = true)\n",
      " |-- claimmode2_txt: string (nullable = true)\n",
      " |-- claim3: string (nullable = true)\n",
      " |-- claimmode3: string (nullable = true)\n",
      " |-- claimmode3_txt: string (nullable = true)\n",
      " |-- compclaim: string (nullable = true)\n",
      " |-- weaptype1: integer (nullable = true)\n",
      " |-- weaptype1_txt: string (nullable = true)\n",
      " |-- weapsubtype1: double (nullable = true)\n",
      " |-- weapsubtype1_txt: string (nullable = true)\n",
      " |-- weaptype2: string (nullable = true)\n",
      " |-- weaptype2_txt: string (nullable = true)\n",
      " |-- weapsubtype2: string (nullable = true)\n",
      " |-- weapsubtype2_txt: string (nullable = true)\n",
      " |-- weaptype3: string (nullable = true)\n",
      " |-- weaptype3_txt: string (nullable = true)\n",
      " |-- weapsubtype3: string (nullable = true)\n",
      " |-- weapsubtype3_txt: string (nullable = true)\n",
      " |-- weaptype4: string (nullable = true)\n",
      " |-- weaptype4_txt: string (nullable = true)\n",
      " |-- weapsubtype4: string (nullable = true)\n",
      " |-- weapsubtype4_txt: string (nullable = true)\n",
      " |-- weapdetail: string (nullable = true)\n",
      " |-- nkill: double (nullable = true)\n",
      " |-- nkillus: double (nullable = true)\n",
      " |-- nkillter: double (nullable = true)\n",
      " |-- nwound: double (nullable = true)\n",
      " |-- nwoundus: double (nullable = true)\n",
      " |-- nwoundte: double (nullable = true)\n",
      " |-- property: integer (nullable = true)\n",
      " |-- propextent: double (nullable = true)\n",
      " |-- propextent_txt: string (nullable = true)\n",
      " |-- propvalue: double (nullable = true)\n",
      " |-- propcomment: string (nullable = true)\n",
      " |-- ishostkid: double (nullable = true)\n",
      " |-- nhostkid: string (nullable = true)\n",
      " |-- nhostkidus: double (nullable = true)\n",
      " |-- nhours: double (nullable = true)\n",
      " |-- ndays: string (nullable = true)\n",
      " |-- divert: string (nullable = true)\n",
      " |-- kidhijcountry: string (nullable = true)\n",
      " |-- ransom: double (nullable = true)\n",
      " |-- ransomamt: double (nullable = true)\n",
      " |-- ransomamtus: string (nullable = true)\n",
      " |-- ransompaid: double (nullable = true)\n",
      " |-- ransompaidus: string (nullable = true)\n",
      " |-- ransomnote: string (nullable = true)\n",
      " |-- hostkidoutcome: double (nullable = true)\n",
      " |-- hostkidoutcome_txt: string (nullable = true)\n",
      " |-- nreleased: double (nullable = true)\n",
      " |-- addnotes: string (nullable = true)\n",
      " |-- scite1: string (nullable = true)\n",
      " |-- scite2: string (nullable = true)\n",
      " |-- scite3: string (nullable = true)\n",
      " |-- dbsource: string (nullable = true)\n",
      " |-- INT_LOG: integer (nullable = true)\n",
      " |-- INT_IDEO: integer (nullable = true)\n",
      " |-- INT_MISC: integer (nullable = true)\n",
      " |-- INT_ANY: integer (nullable = true)\n",
      " |-- related: string (nullable = true)\n",
      "\n"
     ]
    },
    {
     "name": "stderr",
     "output_type": "stream",
     "text": [
      "                                                                                \r"
     ]
    }
   ],
   "source": [
    "df = infer_and_cast_types(gtd_df, sample_size=100)\n",
    "# Save as Parquet for efficient reloading\n",
    "df.write.mode(\"overwrite\").parquet(\"cleaned_gtd.parquet\")\n",
    "# Reload and verify schema again\n",
    "cleaned_df = spark.read.parquet(\"cleaned_gtd.parquet\")\n",
    "cleaned_df.printSchema()"
   ]
  },
  {
   "cell_type": "code",
   "execution_count": 7,
   "id": "f5705239",
   "metadata": {},
   "outputs": [],
   "source": [
    "# Como en este dataset la correlación era extremadamente baja, nos desharemos de todos los features que sean string (excepto el país)\n",
    "# de esta forma se reduce bastante la complejidad del problema y facilita el entrenamiento de los modelos\n",
    "from pyspark.sql.types import NumericType\n",
    "\n",
    "def drop_non_numeric_columns(df, keep: list = []):\n",
    "    \"\"\"\n",
    "    Drops all columns in the DataFrame that are not numeric, except those in `keep`.\n",
    "    \n",
    "    Parameters:\n",
    "    - df: Spark DataFrame\n",
    "    - keep: list of column names to keep even if non-numeric (e.g., [\"country_txt\"])\n",
    "    \n",
    "    Returns:\n",
    "    - DataFrame with only numeric columns and the specified 'keep' columns\n",
    "    \"\"\"\n",
    "    cols_to_keep = [field.name for field in df.schema.fields \n",
    "                if isinstance(field.dataType, NumericType) or field.name in keep]\n",
    "\n",
    "    \n",
    "    return df.select(cols_to_keep)\n"
   ]
  },
  {
   "cell_type": "code",
   "execution_count": 8,
   "id": "6187d78c",
   "metadata": {},
   "outputs": [],
   "source": [
    "gtd_clean = drop_non_numeric_columns(cleaned_df, keep=[\"country_txt\"])"
   ]
  },
  {
   "cell_type": "markdown",
   "id": "9dd834ef",
   "metadata": {},
   "source": [
    "### 2. Transform WGI DataFrame: melt, clean year & value"
   ]
  },
  {
   "cell_type": "markdown",
   "id": "5e459664",
   "metadata": {},
   "source": [
    "### 5. Correlation Matrix for GTD"
   ]
  },
  {
   "cell_type": "code",
   "execution_count": 9,
   "id": "ae23a279",
   "metadata": {},
   "outputs": [
    {
     "data": {
      "text/plain": [
       "[('iyear', 'int'),\n",
       " ('imonth', 'int'),\n",
       " ('iday', 'int'),\n",
       " ('extended', 'int'),\n",
       " ('country', 'int'),\n",
       " ('country_txt', 'string'),\n",
       " ('region', 'int'),\n",
       " ('latitude', 'double'),\n",
       " ('longitude', 'double'),\n",
       " ('specificity', 'double'),\n",
       " ('vicinity', 'int'),\n",
       " ('crit1', 'int'),\n",
       " ('crit2', 'int'),\n",
       " ('crit3', 'int'),\n",
       " ('doubtterr', 'int'),\n",
       " ('alternative', 'double'),\n",
       " ('multiple', 'double'),\n",
       " ('success', 'int'),\n",
       " ('suicide', 'int'),\n",
       " ('attacktype1', 'int'),\n",
       " ('targtype1', 'int'),\n",
       " ('targsubtype1', 'double'),\n",
       " ('natlty1', 'double'),\n",
       " ('natlty3', 'double'),\n",
       " ('guncertain1', 'double'),\n",
       " ('individual', 'int'),\n",
       " ('nperps', 'double'),\n",
       " ('nperpcap', 'double'),\n",
       " ('claimed', 'double'),\n",
       " ('claimmode', 'double'),\n",
       " ('weaptype1', 'int'),\n",
       " ('weapsubtype1', 'double'),\n",
       " ('nkill', 'double'),\n",
       " ('nkillus', 'double'),\n",
       " ('nkillter', 'double'),\n",
       " ('nwound', 'double'),\n",
       " ('nwoundus', 'double'),\n",
       " ('nwoundte', 'double'),\n",
       " ('property', 'int'),\n",
       " ('propextent', 'double'),\n",
       " ('propvalue', 'double'),\n",
       " ('ishostkid', 'double'),\n",
       " ('nhostkidus', 'double'),\n",
       " ('nhours', 'double'),\n",
       " ('ransom', 'double'),\n",
       " ('ransomamt', 'double'),\n",
       " ('ransompaid', 'double'),\n",
       " ('hostkidoutcome', 'double'),\n",
       " ('nreleased', 'double'),\n",
       " ('INT_LOG', 'int'),\n",
       " ('INT_IDEO', 'int'),\n",
       " ('INT_MISC', 'int'),\n",
       " ('INT_ANY', 'int')]"
      ]
     },
     "execution_count": 9,
     "metadata": {},
     "output_type": "execute_result"
    }
   ],
   "source": [
    "gtd_clean.dtypes"
   ]
  },
  {
   "cell_type": "markdown",
   "id": "f90336b5",
   "metadata": {},
   "source": [
    "Borrarlas estaba causando una gran pérdida de información, así que se usará imputación de datos"
   ]
  },
  {
   "cell_type": "code",
   "execution_count": 52,
   "id": "0798dbe1",
   "metadata": {},
   "outputs": [],
   "source": [
    "from pyspark.ml.feature import Imputer\n",
    "\n",
    "numeric_cols = [f.name for f in df.schema.fields if isinstance(f.dataType, NumericType)]\n",
    "\n",
    "imputer = Imputer(\n",
    "    inputCols=numeric_cols,\n",
    "    outputCols=numeric_cols,\n",
    "    strategy=\"mean\"\n",
    ")"
   ]
  },
  {
   "cell_type": "code",
   "execution_count": 53,
   "id": "59bdc9ce",
   "metadata": {},
   "outputs": [
    {
     "name": "stderr",
     "output_type": "stream",
     "text": [
      "                                                                                \r"
     ]
    }
   ],
   "source": [
    "df_imputed = imputer.fit(gtd_clean).transform(gtd_clean)"
   ]
  },
  {
   "cell_type": "code",
   "execution_count": 54,
   "id": "e7361501",
   "metadata": {},
   "outputs": [
    {
     "data": {
      "text/plain": [
       "209706"
      ]
     },
     "execution_count": 54,
     "metadata": {},
     "output_type": "execute_result"
    }
   ],
   "source": [
    "df_imputed.count()"
   ]
  },
  {
   "cell_type": "code",
   "execution_count": 55,
   "id": "bf24deaa",
   "metadata": {},
   "outputs": [],
   "source": [
    "from pyspark.ml.stat import Correlation\n",
    "from pyspark.ml.feature import VectorAssembler\n",
    "import pandas as pd\n",
    "import seaborn as sns\n",
    "import matplotlib.pyplot as plt\n",
    "\n",
    "# Assemble numeric features into a vector\n",
    "assembler = VectorAssembler(inputCols=numeric_cols, outputCol=\"features\")\n",
    "vector_df = assembler.transform(df_imputed).select(\"features\")"
   ]
  },
  {
   "cell_type": "code",
   "execution_count": 56,
   "id": "1568d254",
   "metadata": {},
   "outputs": [
    {
     "name": "stderr",
     "output_type": "stream",
     "text": [
      "                                                                                \r"
     ]
    }
   ],
   "source": [
    "# Compute correlation matrix\n",
    "correlation_matrix = Correlation.corr(vector_df, \"features\", method=\"pearson\").head()[0].toArray()"
   ]
  },
  {
   "cell_type": "code",
   "execution_count": 57,
   "id": "a5b61142",
   "metadata": {},
   "outputs": [],
   "source": [
    "corr_df = pd.DataFrame(correlation_matrix, columns=numeric_cols, index=numeric_cols)"
   ]
  },
  {
   "cell_type": "code",
   "execution_count": 58,
   "id": "e72557de",
   "metadata": {},
   "outputs": [
    {
     "data": {
      "image/png": "[encoded data removed]",
      "text/plain": [
       "<Figure size 1600x1200 with 2 Axes>"
      ]
     },
     "metadata": {},
     "output_type": "display_data"
    }
   ],
   "source": [
    "\n",
    "plt.figure(figsize=(16, 12))\n",
    "sns.heatmap(corr_df, annot=False, cmap='coolwarm', fmt=\".2f\", square=True)\n",
    "plt.title(\"Correlation Heatmap (GTD Cleaned Dataset)\")\n",
    "plt.tight_layout()\n",
    "plt.show()"
   ]
  },
  {
   "cell_type": "markdown",
   "id": "6abb4868",
   "metadata": {},
   "source": [
    "### Aún con imputación se ve que la variable `success` tiene muy poca correlación con las demás por lo que nos conviene enriquecer el contexto."
   ]
  },
  {
   "cell_type": "code",
   "execution_count": 63,
   "id": "a584f60c",
   "metadata": {},
   "outputs": [
    {
     "name": "stdout",
     "output_type": "stream",
     "text": [
      "+--------------+------------+--------------------+-----------+------------------+------------------+------------------+--------------------+------------------+-------------------+------------------+------------------+------------------+------------------+------------------+------------------+------------------+------------------+------------------+-------------------+------------------+------------------+------------------+------------------+-------------------+------------------+-------------------+------------------+------------------+\n",
      "|  Country Name|Country Code|         Series Name|Series Code|     1996 [YR1996]|     1998 [YR1998]|     2000 [YR2000]|       2002 [YR2002]|     2003 [YR2003]|      2004 [YR2004]|     2005 [YR2005]|     2006 [YR2006]|     2007 [YR2007]|     2008 [YR2008]|     2009 [YR2009]|     2010 [YR2010]|     2011 [YR2011]|     2012 [YR2012]|     2013 [YR2013]|      2014 [YR2014]|     2015 [YR2015]|     2016 [YR2016]|     2017 [YR2017]|     2018 [YR2018]|      2019 [YR2019]|     2020 [YR2020]|      2021 [YR2021]|     2022 [YR2022]|     2023 [YR2023]|\n",
      "+--------------+------------+--------------------+-----------+------------------+------------------+------------------+--------------------+------------------+-------------------+------------------+------------------+------------------+------------------+------------------+------------------+------------------+------------------+------------------+-------------------+------------------+------------------+------------------+------------------+-------------------+------------------+-------------------+------------------+------------------+\n",
      "|   Afghanistan|         AFG|Control of Corrup...|     CC.EST| -1.29170477390289| -1.17601227760315| -1.27172422409058|   -1.25113701820374| -1.34417974948883|  -1.35064733028412| -1.44725239276886| -1.44629228115082| -1.61325109004974| -1.67209553718567| -1.55229878425598| -1.64539110660553| -1.60047078132629| -1.43037283420563| -1.44596064090729|  -1.36493408679962| -1.35471308231354| -1.54022777080536| -1.53007459640503| -1.50287592411041|  -1.41931009292603| -1.49336087703705|  -1.15226578712463| -1.18368434906006| -1.15493178367615|\n",
      "|   Afghanistan|         AFG|Government Effect...|     GE.EST| -2.17516660690308| -2.10229182243347| -2.17394614219666|   -1.58768701553345| -1.17576801776886| -0.945146262645721|  -1.2288156747818| -1.47365152835846| -1.44011056423187| -1.52779507637024| -1.50775218009949| -1.47831559181213| -1.47410047054291| -1.37553513050079| -1.40146291255951|  -1.36164617538452| -1.39739489555359| -1.29146802425385| -1.38659679889679| -1.50175786018372|   -1.5191125869751| -1.61153948307037|  -1.67058789730072| -1.88003480434418| -1.98701369762421|\n",
      "|   Afghanistan|         AFG|Regulatory Qualit...|     RQ.EST| -2.09033036231995| -2.06287217140198|  -2.0802526473999|   -1.81154572963715| -1.46310782432556|  -1.51154899597168| -1.64344024658203| -1.68946862220764| -1.70887231826782| -1.60716688632965| -1.66450762748718| -1.51652824878693| -1.53632390499115| -1.19257974624634| -1.19309020042419|  -1.12413370609283|  -1.0188262462616| -1.33969509601593| -1.36301040649414| -1.13820362091064|  -1.11377799510956| -1.38916301727295|  -1.31168210506439| -1.27180624008179| -1.26642525196075|\n",
      "|   Afghanistan|         AFG|Rule of Law: Esti...|     RL.EST| -1.78807544708252| -1.73488676548004| -1.78066074848175|   -1.67347323894501|  -1.5582937002182|   -1.6939252614975| -1.66296553611755| -1.87900483608246| -1.85256004333496| -1.90330755710602| -1.87611877918243| -1.87005805969238|  -1.9225001335144|  -1.6518931388855| -1.60975515842438|   -1.4377019405365| -1.51620066165924| -1.52253365516663| -1.58117640018463| -1.68912386894226|  -1.74210047721863| -1.83140671253204|  -1.87723398208618| -1.65984559059143| -1.64964091777802|\n",
      "|   Afghanistan|         AFG|Voice and Account...|     VA.EST| -1.90854012966156| -2.03930115699768| -2.03141713142395|   -1.43342101573944|  -1.1775711774826|  -1.20303392410278| -1.12542963027954| -1.11029398441315| -1.05765390396118| -1.16890180110931| -1.37549519538879| -1.40446734428406| -1.33597695827484| -1.26743006706238| -1.24013912677765|  -1.13552260398865| -1.11762809753418| -1.03783690929413|-0.990954160690308| -1.00768673419952|  -1.00671291351318| -1.07826685905457|  -1.56838941574097| -1.75352871417999| -1.85290133953094|\n",
      "|       Albania|         ALB|Control of Corrup...|     CC.EST|-0.893903493881226|-0.992024779319763|-0.855563640594482|    -0.8453409075737|-0.853786587715149| -0.723731815814972|-0.813263893127441|-0.790545284748077|-0.706940054893494|-0.605212390422821|-0.545270919799805|-0.531616508960724|-0.701794147491455|-0.778729438781738|-0.751372694969177|   -0.5865718126297| -0.54514080286026|-0.472373723983765|-0.481386840343475|-0.546018898487091| -0.564274072647095|-0.573538780212402| -0.577179968357086|-0.408189445734024|-0.332218527793884|\n",
      "|       Albania|         ALB|Government Effect...|     GE.EST| -0.68858790397644|-0.732602536678314|-0.917780160903931|  -0.624333381652832|-0.563986718654633| -0.408371657133102|-0.696387231349945|-0.580952644348145|-0.427722543478012|-0.367063492536545|-0.255941480398178|-0.279453217983246|-0.202177077531815| -0.26892501115799|-0.324457377195358|-0.0497708097100258|0.0275752544403076|0.0290823616087437|0.0985528454184532|0.0805245339870453|-0.0623007006943226|-0.155121222138405|-0.0359850227832794|0.0645405352115631| 0.250855356454849|\n",
      "|       Albania|         ALB|Regulatory Qualit...|     RQ.EST|-0.474401652812958|-0.441555827856064|-0.415910124778748|  -0.311400771141052|-0.490216553211212| -0.187491565942764|-0.400731235742569| -0.14859938621521|0.0345503017306328| 0.137666508555412| 0.241446003317833| 0.233281955122948| 0.283972561359406| 0.240491986274719|  0.25416025519371|  0.279037684202194| 0.174237310886383| 0.186607629060745| 0.220610320568085| 0.256079822778702|  0.272065460681915| 0.221967235207558|  0.175859391689301| 0.159353822469711| 0.171953663229942|\n",
      "|       Albania|         ALB|Rule of Law: Esti...|     RL.EST|-0.684481799602509|-0.929671704769135| -1.02066767215729|  -0.762321412563324|-0.716323494911194| -0.701032340526581|-0.763833165168762|-0.703135848045349|-0.661545991897583|-0.600079298019409| -0.49437016248703|-0.385760486125946|-0.442926466464996|-0.519839763641357|-0.518828868865967| -0.311199098825455| -0.31968680024147|-0.322631984949112|-0.414191573858261|-0.414752036333084| -0.426317363977432|-0.378028213977814| -0.280716270208359|-0.165585100650787|-0.164097368717194|\n",
      "|       Albania|         ALB|Voice and Account...|     VA.EST|-0.648297846317291|-0.387372851371765|-0.285138666629791|-0.00815020967274904|0.0703076869249344|0.00723749911412597|0.0036717876791954|0.0758899599313736| 0.113008469343185| 0.174939081072807| 0.141477331519127| 0.123838223516941|0.0623337626457214|0.0220640376210213|0.0488644428551197|  0.143689781427383| 0.157135263085365| 0.171097502112389| 0.203885167837143| 0.188786596059799|  0.141965284943581|0.0863254442811012| 0.0855889618396759| 0.141740188002586| 0.168997228145599|\n",
      "|       Algeria|         DZA|Control of Corrup...|     CC.EST|-0.566740930080414|-0.916649281978607|-0.987298190593719|  -0.928754985332489|-0.715244472026825| -0.699272692203522|-0.466420471668243|-0.564962565898895|-0.592309474945068|-0.633444845676422|-0.614938259124756|-0.552147269248962|-0.572699666023254|-0.521544516086578|-0.472966939210892|  -0.61311799287796|-0.639462769031525|-0.673700511455536|-0.598896265029907|-0.658903956413269| -0.656169533729553|-0.666826963424683| -0.635961413383484|-0.638041079044342|-0.589308321475983|\n",
      "|       Algeria|         DZA|Government Effect...|     GE.EST| -1.08876645565033|-0.883071959018707| -1.01074934005737|  -0.614207327365875|-0.674277365207672| -0.559222877025604|-0.446233421564102|-0.438161790370941|-0.537276387214661|-0.603184521198273|-0.534546136856079|-0.395901709794998|-0.520578742027283|-0.447385340929031|-0.431544005870819| -0.339864790439606|-0.410829484462738|-0.464708805084229|-0.537024140357971|-0.488536387681961| -0.567920982837677|-0.573643207550049|  -0.65274578332901| -0.51349949836731|-0.670135140419006|\n",
      "|       Algeria|         DZA|Regulatory Qualit...|     RQ.EST|-0.907437264919281|-0.881358742713928|-0.710209369659424|  -0.574951589107513|-0.481900811195374| -0.441777735948563|-0.341526746749878|-0.500463128089905| -0.52258163690567| -0.62473601102829|-0.964235186576843| -1.10480070114136| -1.21237993240356| -1.32038903236389| -1.13844060897827|  -1.30188941955566| -1.25690579414368|  -1.2414299249649|  -1.2794988155365| -1.34690141677856|  -1.38831329345703| -1.35530030727386|  -1.18196296691895| -1.06357324123383|-0.948087155818939|\n",
      "|       Algeria|         DZA|Rule of Law: Esti...|     RL.EST| -1.21819484233856| -1.19836211204529| -1.24584436416626|  -0.636733174324036|-0.605380773544312| -0.616287350654602|-0.773644506931305|-0.775204539299011|-0.791886448860168|-0.767772257328033| -0.82556688785553|-0.816793382167816|-0.845334827899933|-0.812617719173431| -0.69340193271637| -0.804650962352753|-0.941968441009521|-0.916658818721771|-0.925012648105621|-0.806978523731232| -0.861034154891968|-0.798027575016022| -0.833022832870483|-0.833259999752045|-0.678364396095276|\n",
      "|       Algeria|         DZA|Voice and Account...|     VA.EST| -1.16629016399384| -1.24434244632721| -1.11005222797394|   -1.04466021060944| -1.07671809196472| -0.802059054374695|-0.715685963630676|-0.916875541210175|-0.984122395515442|-0.979712247848511| -1.03841888904572| -1.02233076095581| -1.00412118434906|-0.906026601791382|-0.893428981304169| -0.813460826873779|-0.847631812095642|-0.861599445343018|-0.903114080429077|-0.995263040065765|   -1.0534600019455| -1.08850860595703|  -1.01377856731415| -1.01191890239716|-0.979883790016174|\n",
      "|American Samoa|         ASM|Control of Corrup...|     CC.EST|                ..|                ..|                ..|                  ..|                ..|  0.791444957256317| 0.789309144020081| 0.299861043691635|  0.30806240439415| 0.317555278539658| 0.347466081380844| 0.328756839036942| 0.310445874929428|  0.29941114783287| 0.303002297878265|    1.2206939458847|  1.15172910690308|  1.15941143035889|  1.76228725910187|  1.78064966201782|   1.78022909164429|  1.26545393466949|    1.2796870470047|  1.27027237415314|  1.25135612487793|\n",
      "|American Samoa|         ASM|Government Effect...|     GE.EST|                ..|                ..|                ..|                  ..|                ..| -0.126988679170609| 0.224700346589088| 0.245477885007858| 0.481087028980255| 0.498479098081589| 0.497974842786789| 0.487727552652359| 0.481366097927094|  0.48122963309288| 0.486766904592514|  0.438561886548996| 0.442817568778992| 0.482561141252518| 0.510476231575012| 0.498675554990768|  0.489976644515991|  0.63264924287796|  0.638740062713623|  0.66762912273407| 0.654167771339417|\n",
      "|American Samoa|         ASM|Regulatory Qualit...|     RQ.EST|                ..|                ..|                ..|                  ..|                ..|  0.497606158256531| 0.368987888097763| 0.360797524452209| 0.376145482063293| 0.390816241502762| 0.402511686086655| 0.393958419561386| 0.386368304491043| 0.358625292778015| 0.362132906913757|  0.177999645471573|  0.15120430290699| 0.121528759598732|-0.273731589317322|-0.306241989135742| -0.325278997421265| 0.525310516357422|  0.534613013267517| 0.545899748802185| 0.512013554573059|\n",
      "|American Samoa|         ASM|Rule of Law: Esti...|     RL.EST|                ..|                ..|                ..|                  ..|                ..|  0.839596450328827|  1.10941541194916|  1.06922149658203|  1.09091985225677|  1.11797952651978|   1.1250547170639|  1.11120820045471|  1.09095239639282|  1.09636723995209|  1.10143828392029|   1.40731287002563|  1.28552782535553|  1.27915823459625|  1.29530119895935|  1.29659616947174|   1.26820170879364|    1.118488073349|   1.13875997066498|  1.22111594676971|  1.21249115467072|\n",
      "|American Samoa|         ASM|Voice and Account...|     VA.EST|                ..|                ..|                ..|                  ..|                ..|  0.503726005554199| 0.654332458972931|  0.54846316576004| 0.972128868103027| 0.967198193073273| 0.963811635971069| 0.988284409046173|  1.00905168056488|  1.02567172050476|  1.00473141670227|                 ..|                ..|                ..|                ..|                ..|   1.31854784488678| 0.970990180969238|  0.980956017971039| 0.952084183692932|                ..|\n",
      "+--------------+------------+--------------------+-----------+------------------+------------------+------------------+--------------------+------------------+-------------------+------------------+------------------+------------------+------------------+------------------+------------------+------------------+------------------+------------------+-------------------+------------------+------------------+------------------+------------------+-------------------+------------------+-------------------+------------------+------------------+\n",
      "only showing top 20 rows\n",
      "\n"
     ]
    }
   ],
   "source": [
    "# Load WGI without full schema, infer for non-prefix then cast later\n",
    "wgi_raw = spark.read.option(\"header\", True).csv(\"datasets/WGI.csv\", inferSchema=True)\n",
    "wgi_raw.show()"
   ]
  },
  {
   "cell_type": "code",
   "execution_count": 64,
   "id": "e71255a4",
   "metadata": {},
   "outputs": [],
   "source": [
    "from pyspark.sql.functions import col, regexp_extract\n",
    "from pyspark.sql.types import IntegerType, DoubleType\n",
    "\n",
    "year_cols = [c for c in wgi_raw.columns if c.startswith(\"19\") or c.startswith(\"20\")]\n",
    "\n",
    "stack_expr = \"stack({0}, {1}) as (year, value)\".format(\n",
    "    len(year_cols),\n",
    "    \", \".join([f\"'{c}', `{c}`\" for c in year_cols])\n",
    ")\n",
    "\n",
    "wgi_melted = wgi_raw.selectExpr(\n",
    "    \"`Country Name` as country_name\",\n",
    "    \"`Country Code` as country_code\",\n",
    "    \"`Series Name` as srs_name\",\n",
    "    \"`Series Code` as srs_code\",\n",
    "    stack_expr\n",
    ")\n",
    "\n",
    "wgi_melted = wgi_melted.withColumn(\"year\", regexp_extract(\"year\", r\"(\\d{4})\", 1).cast(IntegerType()))\n",
    "wgi_melted = wgi_melted.withColumn(\"value\", when(col(\"value\") == \"..\", None).otherwise(col(\"value\")))\n",
    "wgi_melted = wgi_melted.withColumn(\"value\", col(\"value\").cast(DoubleType()))\n"
   ]
  },
  {
   "cell_type": "code",
   "execution_count": 67,
   "id": "1f2b2c4b",
   "metadata": {},
   "outputs": [],
   "source": [
    "# Se renombran algunas columnas para que sea mas facil manipularlas\n",
    "rename_map = {\n",
    "    \"Government Effectiveness: Estimate\": \"gov_effectiveness\",\n",
    "    \"Regulatory Quality: Estimate\": \"reg_qual\",\n",
    "    \"Control of Corruption: Estimate\": \"ctrl_corruption\",\n",
    "    \"Rule of Law: Estimate\": \"rule_law\",\n",
    "    \"Voice and Accountability: Estimate\": \"voice_account\",\n",
    "    \"Political Stability and Absence of Violence/Terrorism: Estimate\": \"pol_stability\"\n",
    "}\n",
    "\n",
    "wgi_melted = wgi_melted.replace(rename_map, subset=[\"srs_name\"])\n"
   ]
  },
  {
   "cell_type": "code",
   "execution_count": 68,
   "id": "d2aca957",
   "metadata": {},
   "outputs": [
    {
     "name": "stdout",
     "output_type": "stream",
     "text": [
      "+--------------------+----+------------------+------------------+------------------+-------------------+------------------+\n",
      "|        country_name|year|   ctrl_corruption| gov_effectiveness|          reg_qual|           rule_law|     voice_account|\n",
      "+--------------------+----+------------------+------------------+------------------+-------------------+------------------+\n",
      "|            Colombia|2014|-0.397509813308716|-0.135854035615921| 0.444412022829056| -0.252291530370712|-0.043343797326088|\n",
      "|Jersey, Channel I...|2011|  1.22138583660126|  1.44963026046753|  1.11898970603943|   1.73314356803894|   1.2762987613678|\n",
      "|                Cuba|2009|   0.2748102247715|-0.336485356092453| -1.60246276855469| -0.712426066398621| -1.70388305187225|\n",
      "|              Brazil|2023|-0.503643155097961|-0.546764314174652| -0.29647821187973| -0.308802843093872| 0.382853865623474|\n",
      "|             Bermuda|2018|  1.17894005775452|  1.32700169086456| 0.813936293125153|  0.816772699356079|              null|\n",
      "|           Greenland|2017|  1.14908540248871|  0.81028825044632|  1.31009078025818|   1.68990814685822|  1.29565441608429|\n",
      "|          Luxembourg|2007|  1.96152448654175|   1.5860413312912|  1.73761868476868|   1.74790990352631|  1.53769946098328|\n",
      "|               Italy|2023| 0.550129175186157| 0.611036896705627| 0.644031763076782|  0.390358686447144|  1.11553084850311|\n",
      "|               Nauru|2022|  0.60178005695343|  0.19847996532917|0.0192454010248184|-0.0233930051326752|  0.62115490436554|\n",
      "|            Viet Nam|2004|-0.756660282611847| -0.47920498251915|-0.556896567344666| -0.604071080684662| -1.33793187141418|\n",
      "|         Puerto Rico|2010| 0.472344607114792| 0.323047578334808| 0.855329275131226|  0.760903239250183| 0.838140785694122|\n",
      "|          Uzbekistan|2011| -1.38756489753723|-0.698397278785706| -1.55778133869171|  -1.45240187644958| -2.12443065643311|\n",
      "|           Argentina|2010|-0.355230033397675|  -0.1117919459939|-0.742940902709961|  -0.59809422492981| 0.361670136451721|\n",
      "|            Barbados|2019|  1.15904092788696| 0.591981410980225|  0.39874941110611|  0.323312878608704|  1.10105216503143|\n",
      "|             Lesotho|2005|0.0550843179225922|-0.171274870634079|-0.633165061473846| -0.189165323972702|-0.209769800305367|\n",
      "|          Uzbekistan|2008| -1.06285727024078|-0.899454832077026| -1.36384046077728|  -1.17363584041595| -2.10014271736145|\n",
      "|             Bahrain|2014| 0.273115307092667| 0.543822586536407| 0.704518795013428|  0.413116037845612| -1.31115794181824|\n",
      "|           Guatemala|2018|-0.821764290332794|-0.717763662338257|-0.291999518871307|   -1.0757360458374|-0.353723645210266|\n",
      "|            Anguilla|1998|              null|              null|              null|               null|              null|\n",
      "|          Madagascar|2018| -1.02106416225433| -1.21214354038239|-0.785894691944122| -0.836356043815613|-0.321546018123627|\n",
      "+--------------------+----+------------------+------------------+------------------+-------------------+------------------+\n",
      "only showing top 20 rows\n",
      "\n"
     ]
    }
   ],
   "source": [
    "from pyspark.sql.functions import first\n",
    "\n",
    "wgi_pivoted = wgi_melted.groupBy(\"country_name\", \"year\").pivot(\"srs_name\").agg(first(\"value\"))\n",
    "wgi_pivoted.show()"
   ]
  },
  {
   "cell_type": "code",
   "execution_count": 69,
   "id": "03e8f465",
   "metadata": {},
   "outputs": [],
   "source": [
    "# Join WGI with GTD\n",
    "gtd_enriched = df_imputed.join(\n",
    "    wgi_pivoted,\n",
    "    (df_imputed[\"country_txt\"] == wgi_pivoted[\"country_name\"]) & (df_imputed[\"iyear\"] == wgi_pivoted[\"year\"]),\n",
    "    how=\"inner\"\n",
    ")\n"
   ]
  },
  {
   "cell_type": "code",
   "execution_count": 70,
   "id": "26e19160",
   "metadata": {},
   "outputs": [
    {
     "name": "stdout",
     "output_type": "stream",
     "text": [
      "+-----+------+----+--------+-------+-----------+------+---------+----------+-----------+--------+-----+-----+-----+---------+------------------+--------+-------+-------+-----------+---------+------------+------------------+------------------+-------------------+----------+-----------------+--------+--------------------+-----------------+---------+------------+------------------+-------------------+--------+------+--------+--------+--------+------------------+------------------+-----------------+-----------------+------------------+-----------------+------------------+-----------------+------------------+------------------+-------+--------+--------+-------+------------+----+------------------+------------------+------------------+-------------------+------------------+\n",
      "|iyear|imonth|iday|extended|country|country_txt|region| latitude| longitude|specificity|vicinity|crit1|crit2|crit3|doubtterr|       alternative|multiple|success|suicide|attacktype1|targtype1|targsubtype1|           natlty1|           natlty3|        guncertain1|individual|           nperps|nperpcap|             claimed|        claimmode|weaptype1|weapsubtype1|             nkill|            nkillus|nkillter|nwound|nwoundus|nwoundte|property|        propextent|         propvalue|        ishostkid|       nhostkidus|            nhours|           ransom|         ransomamt|       ransompaid|    hostkidoutcome|         nreleased|INT_LOG|INT_IDEO|INT_MISC|INT_ANY|country_name|year|   ctrl_corruption| gov_effectiveness|          reg_qual|           rule_law|     voice_account|\n",
      "+-----+------+----+--------+-------+-----------+------+---------+----------+-----------+--------+-----+-----+-----+---------+------------------+--------+-------+-------+-----------+---------+------------+------------------+------------------+-------------------+----------+-----------------+--------+--------------------+-----------------+---------+------------+------------------+-------------------+--------+------+--------+--------+--------+------------------+------------------+-----------------+-----------------+------------------+-----------------+------------------+-----------------+------------------+------------------+-------+--------+--------+-------+------------+----+------------------+------------------+------------------+-------------------+------------------+\n",
      "| 2002|     1|   1|       0|    153|   Pakistan|     6|24.891115| 67.143311|        1.0|       0|    1|    1|    1|        0|1.2794364307279436|     0.0|      1|      0|          3|       14|        67.0|126.92665308211572|130.73249211356466|0.07575466717857657|         0|-68.7503690410721|     0.0|-0.01450741063644...|              0.0|        6|         6.0|2.4287913073614256|0.04374943817893914|     0.0|   0.0|     0.0|    12.0|       0|               0.0|               3.0|42.76567518772508|              0.0|1271.6709315698677|1.096791863258929|2630777.5691181878|597781.8001823708|11.121564708401742|-32.09517077163479|     27|      15|      -9|     -9|    Pakistan|2002|-0.955985903739929|-0.549481332302094|-0.877513706684113| -0.931637406349182| -1.10900616645813|\n",
      "| 2002|     1|   1|       0|     92|      India|     6|34.419539|  74.63827|        1.0|       0|    1|    1|    1|        0|1.2794364307279436|     0.0|      1|      0|          2|       14|        68.0|              92.0|130.73249211356466|                0.0|         0|-68.7503690410721|     0.0|                 0.0|6.439706354300385|        5|         5.0|               1.0|                0.0|     0.0|   0.0|     0.0|     0.0|      -9|               4.0|172340.56884280592|              0.0|432.9105907397552|1271.6709315698677|1.096791863258929|2630777.5691181878|597781.8001823708|11.121564708401742|-32.09517077163479|     -9|      -9|       0|     -9|       India|2002|-0.555382490158081|-0.189068421721458|-0.381400048732758|-0.0173958707600832| 0.426245898008347|\n",
      "| 2002|     1|   1|       0|     92|      India|     6|33.724008| 75.017854|        1.0|       0|    1|    1|    1|        1|               1.0|     0.0|      1|      0|          2|        4|        27.0|              92.0|130.73249211356466|                0.0|         0|-68.7503690410721|     0.0|                 0.0|6.439706354300385|        5|         2.0|               0.0|                0.0|     0.0|   0.0|     0.0|     0.0|      -9|               4.0|172340.56884280592|              0.0|432.9105907397552|1271.6709315698677|1.096791863258929|2630777.5691181878|597781.8001823708|11.121564708401742|-32.09517077163479|     -9|      -9|       0|     -9|       India|2002|-0.555382490158081|-0.189068421721458|-0.381400048732758|-0.0173958707600832| 0.426245898008347|\n",
      "| 2002|     1|   1|       0|     93|  Indonesia|     5|-0.898583|119.850601|        1.0|       0|    1|    1|    1|        0|1.2794364307279436|     1.0|      1|      0|          3|       15|        86.0|              93.0|130.73249211356466|                0.0|         0|-68.7503690410721|     0.0|                 0.0|6.439706354300385|        6|        16.0|               0.0|                0.0|     0.0|   3.0|     0.0|     0.0|       1|               4.0|172340.56884280592|              0.0|432.9105907397552|1271.6709315698677|1.096791863258929|2630777.5691181878|597781.8001823708|11.121564708401742|-32.09517077163479|     -9|      -9|       0|     -9|   Indonesia|2002| -1.13730299472809|-0.550523042678833|-0.742287337779999| -0.910264730453491|-0.271903306245804|\n",
      "| 2002|     1|   1|       0|     93|  Indonesia|     5|-6.208821|106.846046|        1.0|       0|    1|    1|    1|        0|1.2794364307279436|     1.0|      1|      0|          3|        1|         2.0|              93.0|130.73249211356466|                0.0|         0|-68.7503690410721|     0.0|                 0.0|6.439706354300385|        6|         7.0|               0.0|                0.0|     0.0|   1.0|     0.0|     0.0|       1|               4.0|172340.56884280592|              0.0|432.9105907397552|1271.6709315698677|1.096791863258929|2630777.5691181878|597781.8001823708|11.121564708401742|-32.09517077163479|     -9|      -9|       0|     -9|   Indonesia|2002| -1.13730299472809|-0.550523042678833|-0.742287337779999| -0.910264730453491|-0.271903306245804|\n",
      "| 2002|     1|   1|       0|      6|    Algeria|    10| 36.18898|  5.414416|        1.0|       0|    1|    1|    1|        1|               1.0|     0.0|      1|      0|          2|        4|        34.0|               6.0|130.73249211356466|                0.0|         0|-68.7503690410721|     0.0|                 0.0|6.439706354300385|        5|         5.0|               0.0|                0.0|     0.0|   2.0|     0.0|     0.0|       0|3.2514213775178686|172340.56884280592|              0.0|432.9105907397552|1271.6709315698677|1.096791863258929|2630777.5691181878|597781.8001823708|11.121564708401742|-32.09517077163479|     -9|      -9|       0|     -9|     Algeria|2002|-0.928754985332489|-0.614207327365875|-0.574951589107513| -0.636733174324036| -1.04466021060944|\n",
      "| 2002|     1|   1|       0|    160|Philippines|     5| 6.862806|124.443649|        1.0|       0|    1|    1|    1|        0|1.2794364307279436|     0.0|      1|      0|          2|       14|        72.0|             160.0|130.73249211356466|                1.0|         0|            300.0|     0.0|                 0.0|6.439706354300385|        8|        18.0|               0.0|                0.0|     0.0|   0.0|     0.0|     0.0|       1|               4.0|172340.56884280592|              0.0|432.9105907397552|1271.6709315698677|1.096791863258929|2630777.5691181878|597781.8001823708|11.121564708401742|-32.09517077163479|      0|       0|       0|      0| Philippines|2002|-0.538531899452209|-0.178975060582161|-0.157630756497383| -0.386543154716492| 0.164603292942047|\n",
      "| 2002|     1|   1|       0|     92|      India|     6|32.264338| 75.642112|        1.0|       0|    1|    1|    1|        1|               1.0|     0.0|      1|      0|          2|        4|        34.0|              92.0|130.73249211356466|                0.0|         0|-68.7503690410721|     0.0|                 0.0|6.439706354300385|        6|        11.0|               3.0|                0.0|     0.0|   3.0|     0.0|     0.0|       1|               4.0|172340.56884280592|              0.0|432.9105907397552|1271.6709315698677|1.096791863258929|2630777.5691181878|597781.8001823708|11.121564708401742|-32.09517077163479|     -9|      -9|       0|     -9|       India|2002|-0.555382490158081|-0.189068421721458|-0.381400048732758|-0.0173958707600832| 0.426245898008347|\n",
      "| 2002|     1|   1|       0|     92|      India|     6|33.767001| 74.092404|        3.0|       0|    1|    1|    1|        0|1.2794364307279436|     0.0|      1|      0|          2|       14|        69.0|              92.0|130.73249211356466|                0.0|         0|-68.7503690410721|     0.0|                -9.0|6.439706354300385|        5|         5.0|               6.0|                0.0|     0.0|   0.0|     0.0|     0.0|       0|3.2514213775178686|172340.56884280592|              0.0|432.9105907397552|1271.6709315698677|1.096791863258929|2630777.5691181878|597781.8001823708|11.121564708401742|-32.09517077163479|      1|       1|       0|      1|       India|2002|-0.555382490158081|-0.189068421721458|-0.381400048732758|-0.0173958707600832| 0.426245898008347|\n",
      "| 2002|     1|   1|       0|      4|Afghanistan|     6|34.516895| 69.147011|        1.0|       1|    1|    1|    1|        1|               1.0|     0.0|      1|      0|          2|        4|        37.0|             422.0|130.73249211356466|                0.0|         0|-68.7503690410721|     0.0|                 0.0|6.439706354300385|        5|         5.0|               0.0|                0.0|     0.0|   1.0|     1.0|     0.0|       1|               4.0|172340.56884280592|              0.0|432.9105907397552|1271.6709315698677|1.096791863258929|2630777.5691181878|597781.8001823708|11.121564708401742|-32.09517077163479|     -9|      -9|       1|      1| Afghanistan|2002| -1.25113701820374| -1.58768701553345| -1.81154572963715|  -1.67347323894501| -1.43342101573944|\n",
      "| 2002|     1|   1|       0|    185|      Spain|     8|43.317073| -2.678975|        1.0|       0|    1|    1|    1|        0|1.2794364307279436|     1.0|      1|      0|          2|        1|         3.0|             185.0|130.73249211356466|                1.0|         0|             40.0|     0.0|                 0.0|6.439706354300385|        8|        20.0|               0.0|                0.0|     0.0|   0.0|     0.0|     0.0|       1|               3.0|172340.56884280592|              0.0|432.9105907397552|1271.6709315698677|1.096791863258929|2630777.5691181878|597781.8001823708|11.121564708401742|-32.09517077163479|      0|       1|       0|      1|       Spain|2002|  1.31682515144348|  1.78612041473389|  1.32903218269348|   1.22893154621124|  1.27498733997345|\n",
      "| 2002|     1|   1|       0|    185|      Spain|     8|43.317073| -2.678975|        1.0|       0|    1|    1|    1|        0|1.2794364307279436|     1.0|      1|      0|          2|        1|         3.0|             185.0|130.73249211356466|                1.0|         0|             40.0|     0.0|                 0.0|6.439706354300385|        8|        20.0|               0.0|                0.0|     0.0|   0.0|     0.0|     0.0|       1|               3.0|172340.56884280592|              0.0|432.9105907397552|1271.6709315698677|1.096791863258929|2630777.5691181878|597781.8001823708|11.121564708401742|-32.09517077163479|      0|       1|       0|      1|       Spain|2002|  1.31682515144348|  1.78612041473389|  1.32903218269348|   1.22893154621124|  1.27498733997345|\n",
      "| 2002|     1|   1|       0|    185|      Spain|     8|43.317073| -2.678975|        1.0|       0|    1|    1|    1|        0|1.2794364307279436|     1.0|      1|      0|          2|        1|         3.0|             185.0|130.73249211356466|                1.0|         0|             40.0|     0.0|                 0.0|6.439706354300385|        8|        20.0|               0.0|                0.0|     0.0|   0.0|     0.0|     0.0|       1|               3.0|172340.56884280592|              0.0|432.9105907397552|1271.6709315698677|1.096791863258929|2630777.5691181878|597781.8001823708|11.121564708401742|-32.09517077163479|      0|       1|       0|      1|       Spain|2002|  1.31682515144348|  1.78612041473389|  1.32903218269348|   1.22893154621124|  1.27498733997345|\n",
      "| 2002|     1|   1|       0|    185|      Spain|     8|43.317073| -2.678975|        1.0|       0|    1|    1|    1|        0|1.2794364307279436|     1.0|      1|      0|          2|        1|         3.0|             185.0|130.73249211356466|                1.0|         0|             40.0|     0.0|                 0.0|6.439706354300385|        8|        20.0|               0.0|                0.0|     0.0|   0.0|     0.0|     0.0|       1|               3.0|172340.56884280592|              0.0|432.9105907397552|1271.6709315698677|1.096791863258929|2630777.5691181878|597781.8001823708|11.121564708401742|-32.09517077163479|      0|       1|       0|      1|       Spain|2002|  1.31682515144348|  1.78612041473389|  1.32903218269348|   1.22893154621124|  1.27498733997345|\n",
      "| 2002|     1|   2|       0|    153|   Pakistan|     6|33.084256| 73.760656|        1.0|       0|    1|    1|    1|        1|               1.0|     0.0|      1|      0|          2|        4|        29.0|             153.0|130.73249211356466|                0.0|         0|-68.7503690410721|     0.0|                 0.0|6.439706354300385|        6|         7.0|               2.0|                0.0|     0.0|   7.0|     0.0|     0.0|      -9|               4.0|172340.56884280592|              0.0|432.9105907397552|1271.6709315698677|1.096791863258929|2630777.5691181878|597781.8001823708|11.121564708401742|-32.09517077163479|     -9|      -9|       0|     -9|    Pakistan|2002|-0.955985903739929|-0.549481332302094|-0.877513706684113| -0.931637406349182| -1.10900616645813|\n",
      "| 2002|     1|   2|       0|     92|      India|     6| 34.08374| 74.789902|        1.0|       0|    1|    1|    1|        0|1.2794364307279436|     0.0|      1|      0|          3|       14|        74.0|              92.0|130.73249211356466|                0.0|         0|-68.7503690410721|     0.0|                 0.0|6.439706354300385|        6|         7.0|               1.0|                0.0|     0.0|  20.0|     0.0|     0.0|       1|               3.0|172340.56884280592|              0.0|432.9105907397552|1271.6709315698677|1.096791863258929|2630777.5691181878|597781.8001823708|11.121564708401742|-32.09517077163479|     -9|      -9|       0|     -9|       India|2002|-0.555382490158081|-0.189068421721458|-0.381400048732758|-0.0173958707600832| 0.426245898008347|\n",
      "| 2002|     1|   2|       0|     92|      India|     6|32.264338| 75.642112|        1.0|       0|    1|    1|    1|        1|               1.0|     0.0|      1|      0|          2|        4|        34.0|              92.0|130.73249211356466|                0.0|         0|-68.7503690410721|     0.0|                 0.0|6.439706354300385|        5|         5.0|               2.0|                0.0|     0.0|   5.0|     0.0|     0.0|      -9|               4.0|172340.56884280592|              0.0|432.9105907397552|1271.6709315698677|1.096791863258929|2630777.5691181878|597781.8001823708|11.121564708401742|-32.09517077163479|     -9|      -9|       0|     -9|       India|2002|-0.555382490158081|-0.189068421721458|-0.381400048732758|-0.0173958707600832| 0.426245898008347|\n",
      "| 2002|     1|   2|       0|    141|      Nepal|     6|26.633463| 85.799952|        1.0|       0|    1|    1|    1|        0|1.2794364307279436|     0.0|      1|      0|          3|        2|        18.0|             141.0|130.73249211356466|                1.0|         0|-68.7503690410721|     0.0|                -9.0|6.439706354300385|        6|        17.0|               0.0|                0.0|     0.0|   0.0|     0.0|     0.0|       1|               3.0|172340.56884280592|              0.0|432.9105907397552|1271.6709315698677|1.096791863258929|2630777.5691181878|597781.8001823708|11.121564708401742|-32.09517077163479|     27|      15|     106|     -9|       Nepal|2002|-0.463561415672302|-0.598195910453796|-0.590202867984772| -0.517511367797852|-0.798159539699554|\n",
      "| 2002|     1|   2|       0|     92|      India|     6| 34.08374| 74.789902|        1.0|       0|    1|    1|    1|        0|1.2794364307279436|     0.0|      1|      0|          3|        3|        25.0|              92.0|130.73249211356466|                0.0|         0|-68.7503690410721|     0.0|                 0.0|6.439706354300385|        6|         7.0|               0.0|                0.0|     0.0|  29.0|     0.0|     0.0|       1|               3.0|172340.56884280592|              0.0|432.9105907397552|1271.6709315698677|1.096791863258929|2630777.5691181878|597781.8001823708|11.121564708401742|-32.09517077163479|     -9|      -9|       0|     -9|       India|2002|-0.555382490158081|-0.189068421721458|-0.381400048732758|-0.0173958707600832| 0.426245898008347|\n",
      "| 2002|     1|   2|       0|    147|    Nigeria|    11| 7.722279| 10.052053|        1.0|       0|    1|    1|    1|        0|1.2794364307279436|     0.0|      1|      0|          2|       14|        68.0|             147.0|130.73249211356466|                0.0|         0|-68.7503690410721|     0.0|                 0.0|6.439706354300385|        5|         5.0|               8.0|                0.0|     0.0|   5.0|     0.0|     0.0|       1|               3.0|172340.56884280592|              0.0|432.9105907397552|1271.6709315698677|1.096791863258929|2630777.5691181878|597781.8001823708|11.121564708401742|-32.09517077163479|     -9|      -9|       0|     -9|     Nigeria|2002| -1.50206756591797|  -1.0197149515152| -1.17875528335571|   -1.4958997964859|-0.634268760681152|\n",
      "+-----+------+----+--------+-------+-----------+------+---------+----------+-----------+--------+-----+-----+-----+---------+------------------+--------+-------+-------+-----------+---------+------------+------------------+------------------+-------------------+----------+-----------------+--------+--------------------+-----------------+---------+------------+------------------+-------------------+--------+------+--------+--------+--------+------------------+------------------+-----------------+-----------------+------------------+-----------------+------------------+-----------------+------------------+------------------+-------+--------+--------+-------+------------+----+------------------+------------------+------------------+-------------------+------------------+\n",
      "only showing top 20 rows\n",
      "\n"
     ]
    }
   ],
   "source": [
    "\n",
    "enriched_renamed = gtd_enriched.selectExpr()\n",
    "cols_to_impute = [\"gov_effectiveness\", \"reg_qual\"]\n",
    "\n",
    "imputer = Imputer(\n",
    "    inputCols=cols_to_impute,\n",
    "    outputCols=cols_to_impute\n",
    ")\n",
    "\n",
    "gtd_enriched_imputed = imputer.fit(gtd_enriched).transform(gtd_enriched)\n",
    "\n",
    "gtd_enriched_imputed.show()"
   ]
  },
  {
   "cell_type": "code",
   "execution_count": 90,
   "id": "33d1bb17",
   "metadata": {},
   "outputs": [],
   "source": [
    "gtd_enriched_imputed = gtd_enriched_imputed.drop(\"country_name\")"
   ]
  },
  {
   "cell_type": "code",
   "execution_count": 91,
   "id": "9285153e",
   "metadata": {},
   "outputs": [
    {
     "name": "stdout",
     "output_type": "stream",
     "text": [
      "+-------+------+-----------------+\n",
      "|success| count|                %|\n",
      "+-------+------+-----------------+\n",
      "|      1|106968|86.79508609078074|\n",
      "|      0| 16274|13.20491390921926|\n",
      "+-------+------+-----------------+\n",
      "\n"
     ]
    }
   ],
   "source": [
    "total = gtd_enriched_imputed.count()\n",
    "\n",
    "success_dist = gtd_enriched_imputed.groupBy(\"success\").count()\n",
    "\n",
    "success_dist.withColumn(\"%\", (col(\"count\") / total) * 100).show()"
   ]
  },
  {
   "cell_type": "markdown",
   "id": "a94c1999",
   "metadata": {},
   "source": [
    "### Se puede ver que hay un gran desbalance de clases, así que procedemos con un remuestreo"
   ]
  },
  {
   "cell_type": "markdown",
   "id": "d766fcb4",
   "metadata": {},
   "source": [
    "Función para remuestreo"
   ]
  },
  {
   "cell_type": "code",
   "execution_count": 41,
   "id": "20847afa",
   "metadata": {},
   "outputs": [],
   "source": [
    "def submuestrear(df, label_col: str = \"success\"):\n",
    "    \n",
    "    majority_df = df.filter(col(label_col) == 1)\n",
    "    minority_df = df.filter(col(label_col) == 0)\n",
    "\n",
    "    \n",
    "    ratio = minority_df.count() / majority_df.count()\n",
    "    sampled_majority = majority_df.sample(withReplacement=False, fraction=ratio, seed=42)\n",
    "\n",
    "    \n",
    "    balanced_df = sampled_majority.union(minority_df)\n",
    "    return balanced_df"
   ]
  },
  {
   "cell_type": "code",
   "execution_count": 92,
   "id": "d18a0883",
   "metadata": {},
   "outputs": [],
   "source": [
    "balanced_data = submuestrear(gtd_enriched_imputed)"
   ]
  },
  {
   "cell_type": "code",
   "execution_count": 100,
   "id": "5127a486",
   "metadata": {},
   "outputs": [
    {
     "data": {
      "text/plain": [
       "[('iyear', 'int'),\n",
       " ('imonth', 'int'),\n",
       " ('iday', 'int'),\n",
       " ('extended', 'int'),\n",
       " ('country', 'int'),\n",
       " ('country_txt', 'string'),\n",
       " ('region', 'int'),\n",
       " ('latitude', 'double'),\n",
       " ('longitude', 'double'),\n",
       " ('specificity', 'double'),\n",
       " ('vicinity', 'int'),\n",
       " ('crit1', 'int'),\n",
       " ('crit2', 'int'),\n",
       " ('crit3', 'int'),\n",
       " ('doubtterr', 'int'),\n",
       " ('alternative', 'double'),\n",
       " ('multiple', 'double'),\n",
       " ('success', 'int'),\n",
       " ('suicide', 'int'),\n",
       " ('attacktype1', 'int'),\n",
       " ('targtype1', 'int'),\n",
       " ('targsubtype1', 'double'),\n",
       " ('natlty1', 'double'),\n",
       " ('natlty3', 'double'),\n",
       " ('guncertain1', 'double'),\n",
       " ('individual', 'int'),\n",
       " ('nperps', 'double'),\n",
       " ('nperpcap', 'double'),\n",
       " ('claimed', 'double'),\n",
       " ('claimmode', 'double'),\n",
       " ('weaptype1', 'int'),\n",
       " ('weapsubtype1', 'double'),\n",
       " ('nkill', 'double'),\n",
       " ('nkillus', 'double'),\n",
       " ('nkillter', 'double'),\n",
       " ('nwound', 'double'),\n",
       " ('nwoundus', 'double'),\n",
       " ('nwoundte', 'double'),\n",
       " ('property', 'int'),\n",
       " ('propextent', 'double'),\n",
       " ('propvalue', 'double'),\n",
       " ('ishostkid', 'double'),\n",
       " ('nhostkidus', 'double'),\n",
       " ('nhours', 'double'),\n",
       " ('ransom', 'double'),\n",
       " ('ransomamt', 'double'),\n",
       " ('ransompaid', 'double'),\n",
       " ('hostkidoutcome', 'double'),\n",
       " ('nreleased', 'double'),\n",
       " ('INT_LOG', 'int'),\n",
       " ('INT_IDEO', 'int'),\n",
       " ('INT_MISC', 'int'),\n",
       " ('INT_ANY', 'int'),\n",
       " ('year', 'int'),\n",
       " ('ctrl_corruption', 'double'),\n",
       " ('gov_effectiveness', 'double'),\n",
       " ('reg_qual', 'double'),\n",
       " ('rule_law', 'double'),\n",
       " ('voice_account', 'double')]"
      ]
     },
     "execution_count": 100,
     "metadata": {},
     "output_type": "execute_result"
    }
   ],
   "source": [
    "balanced_data.dtypes"
   ]
  },
  {
   "cell_type": "markdown",
   "id": "f8cb57a3",
   "metadata": {},
   "source": [
    "Cabe notar que se puede también supermuestrear la clase con menos datos pero esto puede fácilmente llevar a mucho sobreajuste"
   ]
  },
  {
   "cell_type": "markdown",
   "id": "365bdf53",
   "metadata": {},
   "source": [
    "## Pipeline de entrenamiento y evaluación"
   ]
  },
  {
   "cell_type": "code",
   "execution_count": null,
   "id": "52a0613b",
   "metadata": {},
   "outputs": [],
   "source": [
    "from pyspark.ml import Pipeline\n",
    "from pyspark.ml.feature import StringIndexer, OneHotEncoder, Imputer, VectorAssembler\n",
    "from pyspark.ml.classification import LogisticRegression, RandomForestClassifier\n",
    "from pyspark.ml.tuning import ParamGridBuilder, CrossValidator\n",
    "from pyspark.ml.evaluation import BinaryClassificationEvaluator\n"
   ]
  },
  {
   "cell_type": "code",
   "execution_count": 125,
   "id": "1b77948e",
   "metadata": {},
   "outputs": [],
   "source": [
    "from pyspark.ml.feature import StringIndexer, OneHotEncoder\n",
    "\n",
    "indexer = StringIndexer(inputCol=\"country_txt\", outputCol=\"country_index\", handleInvalid=\"keep\")\n",
    "\n",
    "# OneHotEncoder: country_index → country_vec\n",
    "encoder = OneHotEncoder(inputCols=[\"country_index\"], outputCols=[\"country_vec\"])\n"
   ]
  },
  {
   "cell_type": "code",
   "execution_count": 127,
   "id": "e6e6b050",
   "metadata": {},
   "outputs": [],
   "source": [
    "# Get all columns except 'success'\n",
    "feature_cols = [col for col in balanced_data.columns if col != \"success\"]\n",
    "\n",
    "# Add the encoded column\n",
    "feature_cols = [c for c in feature_cols if c != \"country_txt\"] + [\"country_vec\"]\n",
    "\n",
    "from pyspark.ml.feature import VectorAssembler\n",
    "\n",
    "assembler = VectorAssembler(\n",
    "    inputCols=feature_cols,\n",
    "    outputCol=\"features\"\n",
    ")\n"
   ]
  },
  {
   "cell_type": "code",
   "execution_count": 128,
   "id": "5c7c436f",
   "metadata": {},
   "outputs": [],
   "source": [
    "from pyspark.sql.functions import col\n",
    "\n",
    "# Make sure label is integer (if not already)\n",
    "df = balanced_data.withColumn(\"label\", col(\"success\").cast(\"integer\"))\n"
   ]
  },
  {
   "cell_type": "code",
   "execution_count": 129,
   "id": "af746fc4",
   "metadata": {},
   "outputs": [],
   "source": [
    "from pyspark.ml import Pipeline\n",
    "\n",
    "preprocessing_pipeline = Pipeline(stages=[indexer, encoder, assembler])\n",
    "df_encoded = preprocessing_pipeline.fit(df).transform(df)\n"
   ]
  },
  {
   "cell_type": "markdown",
   "id": "40e1b98d",
   "metadata": {},
   "source": [
    "Definición del evaluador: será clasificación binaria"
   ]
  },
  {
   "cell_type": "code",
   "execution_count": 134,
   "id": "963353b8",
   "metadata": {},
   "outputs": [],
   "source": [
    "from pyspark.ml.evaluation import MulticlassClassificationEvaluator\n",
    "\n",
    "accuracy_evaluator = MulticlassClassificationEvaluator(labelCol=\"label\", predictionCol=\"prediction\", metricName=\"accuracy\")\n",
    "f1_evaluator = MulticlassClassificationEvaluator(labelCol=\"label\", predictionCol=\"prediction\", metricName=\"f1\")\n"
   ]
  },
  {
   "cell_type": "markdown",
   "id": "1ce6e1ec",
   "metadata": {},
   "source": [
    "Función para evaluar los modelos"
   ]
  },
  {
   "cell_type": "code",
   "execution_count": 137,
   "id": "964ff919",
   "metadata": {},
   "outputs": [],
   "source": [
    "def evaluate_model(predictions, model_name=\"Model\"):\n",
    "    from pyspark.sql.functions import col, when, count\n",
    "\n",
    "    # Accuracy & F1\n",
    "    accuracy = accuracy_evaluator.evaluate(predictions)\n",
    "    f1 = f1_evaluator.evaluate(predictions)\n",
    "    auc = evaluator.evaluate(predictions)  # areaUnderROC\n",
    "\n",
    "    # Confusion matrix components\n",
    "    cm = predictions.select(\n",
    "        when((col(\"label\") == 1) & (col(\"prediction\") == 1), 1).alias(\"TP\"),\n",
    "        when((col(\"label\") == 0) & (col(\"prediction\") == 1), 1).alias(\"FP\"),\n",
    "        when((col(\"label\") == 0) & (col(\"prediction\") == 0), 1).alias(\"TN\"),\n",
    "        when((col(\"label\") == 1) & (col(\"prediction\") == 0), 1).alias(\"FN\")\n",
    "    )\n",
    "\n",
    "    counts = cm.selectExpr(\n",
    "        \"sum(TP) as TP\", \"sum(FP) as FP\", \"sum(TN) as TN\", \"sum(FN) as FN\"\n",
    "    ).collect()[0]\n",
    "\n",
    "    TP = counts[\"TP\"] or 0\n",
    "    FP = counts[\"FP\"] or 0\n",
    "    TN = counts[\"TN\"] or 0\n",
    "    FN = counts[\"FN\"] or 0\n",
    "\n",
    "    precision = TP / (TP + FP) if TP + FP != 0 else 0.0\n",
    "    recall = TP / (TP + FN) if TP + FN != 0 else 0.0\n",
    "\n",
    "    print(f\"\\n Metrics for {model_name}:\")\n",
    "    print(f\" - AUC:       {auc:.4f}\")\n",
    "    print(f\" - Accuracy:  {accuracy:.4f}\")\n",
    "    print(f\" - Precision: {precision:.4f}\")\n",
    "    print(f\" - Recall:    {recall:.4f}\")\n",
    "    print(f\" - F1 Score:  {f1:.4f}\")\n"
   ]
  },
  {
   "cell_type": "code",
   "execution_count": 130,
   "id": "94e06238",
   "metadata": {},
   "outputs": [],
   "source": [
    "train_data, test_data = df_encoded.randomSplit([0.8, 0.2], seed=42)\n"
   ]
  },
  {
   "cell_type": "markdown",
   "id": "376f0446",
   "metadata": {},
   "source": [
    "### Definición de modelos y grids"
   ]
  },
  {
   "cell_type": "markdown",
   "id": "2a676cb8",
   "metadata": {},
   "source": [
    "Regr. Logística"
   ]
  },
  {
   "cell_type": "code",
   "execution_count": 131,
   "id": "a0eae31c",
   "metadata": {},
   "outputs": [],
   "source": [
    "from pyspark.ml.evaluation import BinaryClassificationEvaluator\n",
    "from pyspark.ml.tuning import CrossValidator, ParamGridBuilder\n",
    "\n",
    "evaluator = BinaryClassificationEvaluator(labelCol=\"label\", metricName=\"areaUnderROC\")"
   ]
  },
  {
   "cell_type": "code",
   "execution_count": null,
   "id": "bf00c44e",
   "metadata": {},
   "outputs": [
    {
     "name": "stderr",
     "output_type": "stream",
     "text": [
      "                                                                                \r"
     ]
    },
    {
     "name": "stdout",
     "output_type": "stream",
     "text": [
      "Logistic Regression AUC: 0.8660\n"
     ]
    }
   ],
   "source": [
    "from pyspark.ml.classification import LogisticRegression\n",
    "\n",
    "log_reg = LogisticRegression(featuresCol=\"features\", labelCol=\"label\")\n",
    "\n",
    "paramGrid_lr = ParamGridBuilder() \\\n",
    "    .addGrid(log_reg.regParam, [0.01, 0.1, 1.0]) \\\n",
    "    .build()\n",
    "\n",
    "crossval_lr = CrossValidator(\n",
    "    estimator=log_reg,\n",
    "    estimatorParamMaps=paramGrid_lr,\n",
    "    evaluator=evaluator,\n",
    "    numFolds=3\n",
    ")\n",
    "\n",
    "# Fit\n",
    "cv_model_lr = crossval_lr.fit(train_data)\n",
    "\n",
    "# Predict\n",
    "predictions_lr = cv_model_lr.transform(test_data)\n"
   ]
  },
  {
   "cell_type": "markdown",
   "id": "7e548bad",
   "metadata": {},
   "source": [
    "Random Forest"
   ]
  },
  {
   "cell_type": "code",
   "execution_count": null,
   "id": "60ded1c6",
   "metadata": {},
   "outputs": [],
   "source": [
    "from pyspark.ml.classification import RandomForestClassifier\n",
    "\n",
    "rf = RandomForestClassifier(featuresCol=\"features\", labelCol=\"label\")\n",
    "\n",
    "paramGrid_rf = ParamGridBuilder() \\\n",
    "    .addGrid(rf.numTrees, [20, 50]) \\\n",
    "    .addGrid(rf.maxDepth, [5, 10]) \\\n",
    "    .build()\n",
    "\n",
    "crossval_rf = CrossValidator(\n",
    "    estimator=rf,\n",
    "    estimatorParamMaps=paramGrid_rf,\n",
    "    evaluator=evaluator,\n",
    "    numFolds=3\n",
    ")\n",
    "\n",
    "# Fit\n",
    "cv_model_rf = crossval_rf.fit(train_data)\n",
    "\n",
    "# Predict\n",
    "predictions_rf = cv_model_rf.transform(test_data)\n",
    "\n"
   ]
  },
  {
   "cell_type": "code",
   "execution_count": 138,
   "id": "9dd3f5c3",
   "metadata": {},
   "outputs": [
    {
     "name": "stdout",
     "output_type": "stream",
     "text": [
      "\n",
      " Metrics for Logistic Regression:\n",
      " - AUC:       0.8660\n",
      " - Accuracy:  0.7917\n",
      " - Precision: 0.7900\n",
      " - Recall:    0.7848\n",
      " - F1 Score:  0.7916\n"
     ]
    },
    {
     "name": "stderr",
     "output_type": "stream",
     "text": [
      "25/08/07 16:51:33 WARN DAGScheduler: Broadcasting large task binary with size 2.3 MiB\n",
      "25/08/07 16:51:35 WARN DAGScheduler: Broadcasting large task binary with size 2.3 MiB\n",
      "25/08/07 16:51:37 WARN DAGScheduler: Broadcasting large task binary with size 2.3 MiB\n",
      "25/08/07 16:51:38 WARN DAGScheduler: Broadcasting large task binary with size 2.3 MiB\n"
     ]
    },
    {
     "name": "stdout",
     "output_type": "stream",
     "text": [
      "\n",
      " Metrics for Random Forest:\n",
      " - AUC:       0.9643\n",
      " - Accuracy:  0.9128\n",
      " - Precision: 0.9310\n",
      " - Recall:    0.8883\n",
      " - F1 Score:  0.9127\n"
     ]
    }
   ],
   "source": [
    "evaluate_model(predictions_lr, model_name=\"Logistic Regression\")\n",
    "evaluate_model(predictions_rf, model_name=\"Random Forest\")\n"
   ]
  },
  {
   "cell_type": "markdown",
   "id": "8df21053",
   "metadata": {},
   "source": [
    "## Análisis de las métricas y comparación de los modelos"
   ]
  },
  {
   "cell_type": "markdown",
   "id": "b1c904b2",
   "metadata": {},
   "source": [
    "---\n",
    "### Capacidad para discriminar, según el AUC\n",
    "el random forest le gana por mucho al logReg en AUC, con 0.96 vs 0.86, quiere decir que es mejor en dar verdaderos positivos sobre los falsos positivos.\n",
    "Un AUC mayor que 0.9 nos dice que tiene una capacidad muy buena de distinguir entre ataques exitosos y fallidos\n",
    "\n",
    "### Correctitud en general, con Accuracy\n",
    "\n",
    "* el RF tiene 91.28% de los casos correctamente clasificados.\n",
    "* la LR un 79.17%.\n",
    "\n",
    "La diferencia de aproximadamente 12% significa que el random forest es mucho menos propenso a cometer errores\n",
    "\n",
    "### Balance de los Errores (Precision vs Recall)\n",
    "* De los casos exitosos, el random forest hizo mucho menos \"falsos positivos\", tiene 93.10% de precisión\n",
    "* Recall: también tuvo muchísimo mejor rendimiento en encontrar los verdaderos ataques exitosos.\n",
    "\n",
    "\n",
    "## Consideración del Sobreajuste\n",
    "\n",
    "* Hay una consistencia en las métricas comparando entre el training y la validación, o sea, hay buena generalización, no se está acoplando demasiado al problema.\n",
    "* No existe una brecha amplia entre el rendimiento de ambos, indicando que el afinamiento de hiperparámetros es correcto.\n",
    "\n",
    "\n",
    "## Recomendaciones\n",
    "* Utilizar el Random Forest si se necesita robustez en la clasificación, pero si se requiere una operación rápida y hay pocos recursos, puede valer la pena usar una regresión logística.\n",
    "\n",
    "\n",
    "## Dificultades\n",
    "* Deshacerse de features excesivos que no contribuían mucho al modelo tomó bastante tiempo y causó problemas a la hora de codificar la información.\n",
    "* Un manejo más calculado desde el inicio podría haber prevenido estos contratiempos\n"
   ]
  },
  {
   "cell_type": "markdown",
   "id": "0ff2747a",
   "metadata": {},
   "source": [
    "fin del cuaderno"
   ]
  }
 ],
 "metadata": {
  "kernelspec": {
   "display_name": "Python 3 (ipykernel)",
   "language": "python",
   "name": "python3"
  },
  "language_info": {
   "codemirror_mode": {
    "name": "ipython",
    "version": 3
   },
   "file_extension": ".py",
   "mimetype": "text/x-python",
   "name": "python",
   "nbconvert_exporter": "python",
   "pygments_lexer": "ipython3",
   "version": "3.8.16"
  }
 },
 "nbformat": 4,
 "nbformat_minor": 5
}
